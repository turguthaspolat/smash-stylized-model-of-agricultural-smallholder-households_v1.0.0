{
 "cells": [
  {
   "cell_type": "markdown",
   "metadata": {},
   "source": [
    "# Compare different scenarios "
   ]
  },
  {
   "cell_type": "code",
   "execution_count": 1,
   "metadata": {},
   "outputs": [
    {
     "data": {
      "text/plain": [
       "<module 'experiments.analysis_poverty' from '/home/twilliams/adaptation_abm/code/experiments/analysis_poverty.py'>"
      ]
     },
     "execution_count": 1,
     "metadata": {},
     "output_type": "execute_result"
    }
   ],
   "source": [
    "import matplotlib.pyplot as plt\n",
    "import sys\n",
    "# sys.path.append('G:/My Drive/Research/adaptation_abm/code')\n",
    "sys.path.append('/home/twilliams/adaptation_abm/code')\n",
    "import model.model as mod_code\n",
    "import model.base_inputs as inp\n",
    "import experiments.analysis_poverty as msc\n",
    "import plot.poverty as plt_sc\n",
    "import imp\n",
    "import numpy as np\n",
    "import pickle\n",
    "import copy\n",
    "imp.reload(mod_code)\n",
    "imp.reload(msc)"
   ]
  },
  {
   "cell_type": "markdown",
   "metadata": {},
   "source": [
    "## Define scenarios "
   ]
  },
  {
   "cell_type": "code",
   "execution_count": 2,
   "metadata": {},
   "outputs": [],
   "source": [
    "# load default params\n",
    "inp_base = inp.compile()\n",
    "#### OR ####\n",
    "# load from POM experiment\n",
    "# f = '../../outputs/2019_10_15_4/POM/100000_10reps/input_params_0.pkl'\n",
    "f = '../../outputs/es_r1_sims/POM/100000_10reps/input_params_0.pkl'\n",
    "inp_base = pickle.load(open(f, 'rb'))\n",
    "\n",
    "# manually specify some variables (common to all scenarios)\n",
    "inp_base['model']['T'] = 10 + inp_base['adaptation']['burnin_period']\n",
    "inp_base['model']['n_agents'] = 300\n",
    "inp_base['model']['exp_name'] = 'scenario_compare'\n",
    "inp_base['agents']['adap_type'] = 'always'\n",
    "inp_base['model']['seed'] = 0\n",
    "# things not in the POM\n",
    "# inp_base['agents']['land_area_multiplier'] = 1\n",
    "# inp_base['adaptation']['cover_crop']['climate_dependence'] = True\n",
    "\n",
    "# define some scenarios\n",
    "## adaptation scenarios\n",
    "scenarios = {\n",
    "    'baseline' : {'model' : {'adaptation_option' : 'none'}},\n",
    "    'insurance' : {'model' : {'adaptation_option' : 'insurance'}},\n",
    "    'cover_crop' : {'model' : {'adaptation_option' : 'cover_crop'}},\n",
    "    'both' : {'model' : {'adaptation_option' : 'both'}},\n",
    "}"
   ]
  },
  {
   "cell_type": "markdown",
   "metadata": {},
   "source": [
    "## SOM and wealth trajectories"
   ]
  },
  {
   "cell_type": "code",
   "execution_count": null,
   "metadata": {},
   "outputs": [],
   "source": [
    "# FUN THE MODEL\n",
    "nreps = 10000\n",
    "ncores = 40\n",
    "mods = msc.multi_mod_run(nreps, inp_base, scenarios, ncores)"
   ]
  },
  {
   "cell_type": "code",
   "execution_count": null,
   "metadata": {},
   "outputs": [],
   "source": [
    "fig, axs = plt.subplots(2,3, figsize=(15,6))\n",
    "pols = ['insurance', 'cover_crop']\n",
    "\n",
    "for l, land_area in enumerate([1,1.5,2]):\n",
    "    \n",
    "    for p, pol in enumerate(pols):\n",
    "        ax = axs[p,l]\n",
    "        ## format the data\n",
    "        areas = mods['baseline']['land_area'] == land_area\n",
    "        som = np.swapaxes(mods[pol]['organic'] - mods['baseline']['organic'], 0, 1)\n",
    "        som = np.mean(som[:,areas], axis=1)\n",
    "        wealth = np.swapaxes(mods[pol]['wealth'] - mods['baseline']['wealth'], 0, 1)\n",
    "        wealth = np.mean(wealth[:,areas], axis=1)\n",
    "\n",
    "        # plot\n",
    "        ax.plot(som, wealth, label=pol, lw=2)\n",
    "        ax.plot(0,0, marker='o', color='k', markersize=8)\n",
    "\n",
    "        ax.grid(False)\n",
    "        ax.axhline(0, color='k', lw=1)\n",
    "        ax.axvline(0, color='k', lw=1)\n",
    "        \n",
    "        if l == 0:\n",
    "            ax.set_ylabel('Change in wealth')\n",
    "        if p == 0:\n",
    "            ax.set_title('{} ha'.format(land_area))\n",
    "        ax.set_xlabel('Change in SOM')\n",
    "    \n",
    "axs[0,0].text(-0.4, 1.15, 'Insurance', transform=axs[0,0].transAxes, fontsize=28, va='bottom')\n",
    "axs[1,0].text(-0.4, 1.15, 'Cover crop', transform=axs[1,0].transAxes, fontsize=28, va='bottom')"
   ]
  },
  {
   "cell_type": "code",
   "execution_count": null,
   "metadata": {},
   "outputs": [],
   "source": [
    "np.swapaxes(mods[pol]['income'],0,1)[:,areas].shape"
   ]
  },
  {
   "cell_type": "code",
   "execution_count": null,
   "metadata": {},
   "outputs": [],
   "source": [
    "\n",
    "np.var(np.swapaxes(mods[pol]['income'],0,1)[:,areas], axis=1)"
   ]
  },
  {
   "cell_type": "code",
   "execution_count": null,
   "metadata": {},
   "outputs": [],
   "source": [
    "d1 = np.var(np.swapaxes(mods[pol]['income'],0,1)[:,areas].mean(1), axis=0)\n",
    "d0 = np.var(mods['baseline']['income'], axis=0)\n",
    "data = (d1 - d0)[:,areas].mean(1)"
   ]
  },
  {
   "cell_type": "code",
   "execution_count": null,
   "metadata": {},
   "outputs": [],
   "source": [
    "import string\n",
    "fig, ax_all = plt.subplots(7,3, figsize=(12,15), sharex=False, sharey='row', \n",
    "                        gridspec_kw={'height_ratios':[1,1,1,1,1,1,0.02],'hspace':0.1})\n",
    "\n",
    "axs = ax_all[:-1,]\n",
    "[axi.remove() for axi in ax_all[-1]]\n",
    "\n",
    "pols = ['insurance', 'cover_crop','both']\n",
    "land_areas = [1, 1.5, 2]\n",
    "land_areas_str = ['land poor','middle','land rich']\n",
    "# ltys = ['-',':','-.']\n",
    "ltys = ['--','-',':']\n",
    "\n",
    "for o, outcome in enumerate(['income','income_var','wealth','organic','coping', 'zero_wealth']):\n",
    "    for p, pol in enumerate(pols):\n",
    "        ax = axs[o,p]\n",
    "        for l, land_area in enumerate(land_areas):\n",
    "            ## format the data\n",
    "            areas = mods['baseline']['land_area'] == land_area\n",
    "            if outcome == 'zero_wealth':\n",
    "                data = np.swapaxes((mods[pol]['wealth']>0).astype(float) - (mods['baseline']['wealth']>0).astype(float), 0, 1)\n",
    "                data = np.mean(data[:,areas], axis=1)\n",
    "            elif outcome == 'income_var':\n",
    "                d1 = np.var(np.swapaxes(mods[pol]['income'],0,1)[:,areas], axis=1)\n",
    "                d0 = np.var(np.swapaxes(mods['baseline']['income'],0,1)[:,areas], axis=1)\n",
    "                data = (d1 - d0)\n",
    "            else:\n",
    "                data = np.swapaxes(mods[pol][outcome].astype(float) - mods['baseline'][outcome].astype(float), 0, 1)\n",
    "                data = np.mean(data[:,areas], axis=1)\n",
    "                \n",
    "                \n",
    "            # plot\n",
    "            start = 11 if outcome in ['wealth','organic'] else 10\n",
    "            ax.plot(data[start:], lw=2, label='{} ha'.format(land_area), ls=ltys[l], color='k')\n",
    "\n",
    "            ax.axhline(0, color='k', lw=1, label='_nolegend_')\n",
    "            if outcome == 'organic':\n",
    "                titl = 'SOM'\n",
    "            elif outcome == 'coping':\n",
    "                titl = 'P(coping rqd)'\n",
    "            elif outcome == 'zero_wealth':\n",
    "                titl = 'P(wealth>0)'\n",
    "            elif outcome == 'income_var':\n",
    "                titl = 'var(income)'\n",
    "            else:\n",
    "                titl = outcome\n",
    "            if p == 0:\n",
    "                ax.set_ylabel(r'$\\Delta$ {}'.format(titl))\n",
    "            ax.grid(False, axis='y')\n",
    "    axs[o,0].text(0.05,0.95,string.ascii_uppercase[o], ha='left',va='top',transform=axs[o,0].transAxes, fontsize=22)\n",
    "    \n",
    "for axi in axs[-1]:\n",
    "    axi.set_xlabel('Year')\n",
    "#     axi.set_xticklabels(axi.get_xticks())\n",
    "    axi.set_xticks([0,2,4,6,8,10])\n",
    "    axi.set_xticklabels([0,2,4,6,8,10])\n",
    "for axi in axs[:-1].flatten():\n",
    "    axi.set_xticklabels([])\n",
    "    \n",
    "axs[0,0].text(0.5, 1.05, 'Insurance', va='bottom', ha='center', fontsize=28, transform=axs[0,0].transAxes)\n",
    "axs[0,1].text(0.5, 1.05, 'Legume cover', va='bottom', ha='center', fontsize=28, transform=axs[0,1].transAxes)\n",
    "axs[0,2].text(0.5, 1.05, 'Both', va='bottom', ha='center', fontsize=28, transform=axs[0,2].transAxes)\n",
    "lg = fig.legend([li for li in land_areas_str], ncol=3, bbox_to_anchor=[0.5, 0.025], loc='lower center')\n",
    "fig.tight_layout()"
   ]
  },
  {
   "cell_type": "markdown",
   "metadata": {},
   "source": [
    "## change in insurance price : effect on middle agent"
   ]
  },
  {
   "cell_type": "markdown",
   "metadata": {},
   "source": [
    "# Changing parameters"
   ]
  },
  {
   "cell_type": "code",
   "execution_count": null,
   "metadata": {},
   "outputs": [],
   "source": [
    "scenarios = {\n",
    "#     'baseline' : {'model' : {'adaptation_option' : 'none'}},\n",
    "    'insurance' : {'model' : {'adaptation_option' : 'insurance'}},\n",
    "    'cover_crop' : {'model' : {'adaptation_option' : 'cover_crop'}},\n",
    "}\n",
    "policies = ['insurance','cover_crop']\n",
    "nreps = 300\n",
    "ncores = 40\n",
    "inp_base['model']['T'] = 50 + inp_base['adaptation']['burnin_period']"
   ]
  },
  {
   "cell_type": "markdown",
   "metadata": {},
   "source": [
    "### coping / climate"
   ]
  },
  {
   "cell_type": "code",
   "execution_count": null,
   "metadata": {},
   "outputs": [],
   "source": [
    "rain_mus = [0.4,0.5,0.6]\n",
    "clrs = ['0.6','0.4','0.2']\n",
    "# rain_mus = [0.4,0.45,0.5,0.55,0.6]\n",
    "# clrs = ['0.9','0.7','0.5','0.3','0.1']\n",
    "results = {}\n",
    "for m, mu in enumerate(rain_mus):\n",
    "    inps = copy.deepcopy(inp_base)\n",
    "    inps['climate']['rain_mu'] = mu\n",
    "    results[mu] = msc.multi_mod_run(nreps, inps, scenarios, ncores)"
   ]
  },
  {
   "cell_type": "code",
   "execution_count": null,
   "metadata": {},
   "outputs": [],
   "source": [
    "fig, axs = plt.subplots(1,2,figsize=(10,3), sharey=True)\n",
    "c=-1\n",
    "for mu, res in results.items():\n",
    "    c+=1\n",
    "    for p, pol in enumerate(policies):\n",
    "        # calculate the relevant metric\n",
    "        d = np.mean(res[pol]['organic'], axis=(0,2))\n",
    "        axs[p].plot(d, label='Climate mean={}'.format(mu), color=clrs[c])\n",
    "\n",
    "for a, ax in enumerate(axs):\n",
    "    ax.grid(False)\n",
    "    ax.set_xlabel('Year')\n",
    "    ax.set_title(policies[a])\n",
    "    l = ax.get_ylim()\n",
    "    ax.fill_between([0,inp_base['adaptation']['burnin_period']], [l[0],l[0]], [l[1],l[1]], color='0.5', alpha=0.3)\n",
    "    ax.set_ylim(l)\n",
    "axs[1].legend(bbox_to_anchor=(1,0.5), loc='center left')\n",
    "axs[0].set_ylabel('E[SOM]')\n",
    "axs[0].text(-0.1,1.1, 'B', transform=axs[0].transAxes, fontsize=28, va='bottom', ha='center')"
   ]
  },
  {
   "cell_type": "code",
   "execution_count": null,
   "metadata": {},
   "outputs": [],
   "source": [
    "rain_sigmas = [0.15,0.2,0.25]\n",
    "clrs = ['0.4','0.6','0.8']\n",
    "results = {}\n",
    "for m, sig in enumerate(rain_sigmas):\n",
    "    inps = copy.deepcopy(inp_base)\n",
    "    inps['climate']['rain_sd'] = sig\n",
    "    results[sig] = msc.multi_mod_run(nreps, inps, scenarios, ncores)"
   ]
  },
  {
   "cell_type": "code",
   "execution_count": null,
   "metadata": {},
   "outputs": [],
   "source": [
    "fig, axs = plt.subplots(1,2,figsize=(10,3), sharey=True)\n",
    "c=-1\n",
    "for mu, res in results.items():\n",
    "    c+=1\n",
    "    for p, pol in enumerate(policies):\n",
    "        # calculate the relevant metric\n",
    "        d = np.mean(res[pol]['coping'], axis=(0,2))\n",
    "        d = np.mean(res[pol]['yields'], axis=(0,2))\n",
    "        axs[p].plot(d, label='Climate std-dev={}'.format(mu), color=clrs[c])\n",
    "\n",
    "for a, ax in enumerate(axs):\n",
    "    ax.grid(False)\n",
    "    ax.set_xlabel('Year')\n",
    "    ax.set_title(policies[a])\n",
    "    l = ax.get_ylim()\n",
    "    ax.fill_between([0,inp_base['adaptation']['burnin_period']], [l[0],l[0]], [l[1],l[1]], color='0.5', alpha=0.3)\n",
    "    ax.set_ylim(l)\n",
    "axs[1].legend(bbox_to_anchor=(1,0.5), loc='center left')\n",
    "axs[0].set_ylabel('P(livestock sale\\nrequired)')\n",
    "axs[0].text(-0.1,1.1, 'C', transform=axs[0].transAxes, fontsize=28, va='bottom', ha='center')"
   ]
  },
  {
   "cell_type": "markdown",
   "metadata": {},
   "source": [
    "### cash requirements"
   ]
  },
  {
   "cell_type": "code",
   "execution_count": null,
   "metadata": {},
   "outputs": [],
   "source": [
    "cashs = [4500,6000,7500]\n",
    "clrs = ['0.6','0.4','0.2']\n",
    "results = {}\n",
    "for c, cash in enumerate(cashs):\n",
    "    inps = copy.deepcopy(inp_base)\n",
    "    inps['agents']['cash_req_mean'] = cash\n",
    "    results[cash] = msc.multi_mod_run(nreps, inps, scenarios, ncores)"
   ]
  },
  {
   "cell_type": "code",
   "execution_count": null,
   "metadata": {},
   "outputs": [],
   "source": [
    "fig, axs = plt.subplots(1,2,figsize=(10,3), sharey=True)\n",
    "c=0\n",
    "for cash, res in results.items():\n",
    "    for p, pol in enumerate(policies):\n",
    "        # calculate the relevant metric\n",
    "        d = np.mean(res[pol]['wealth']>0, axis=(0,2))\n",
    "        axs[p].plot(d, label='Living cost={}'.format(cash), color=clrs[c])\n",
    "        \n",
    "    c+=1\n",
    "\n",
    "for a, ax in enumerate(axs):\n",
    "    ax.grid(False)\n",
    "    ax.set_xlabel('Year')\n",
    "    ax.set_title(policies[a])\n",
    "    l = ax.get_ylim()\n",
    "    ax.fill_between([0,inp_base['adaptation']['burnin_period']], [l[0],l[0]], [l[1],l[1]], color='0.5', alpha=0.3)\n",
    "    ax.set_ylim(l)\n",
    "axs[1].legend(bbox_to_anchor=(1,0.5), loc='center left')\n",
    "axs[0].set_ylabel('P(wealth>0)')\n",
    "axs[0].text(-0.1,1.1, 'A', transform=axs[0].transAxes, fontsize=28, va='bottom', ha='center')"
   ]
  },
  {
   "cell_type": "markdown",
   "metadata": {},
   "source": [
    "### environment / yield"
   ]
  },
  {
   "cell_type": "code",
   "execution_count": null,
   "metadata": {},
   "outputs": [],
   "source": [
    "vals = [3000,4000,5000]\n",
    "clrs = ['0.6','0.4','0.2']\n",
    "results = {}\n",
    "for v, val in enumerate(vals):\n",
    "    inps = copy.deepcopy(inp_base)\n",
    "    inps['land']['organic_N_min_init'] = val\n",
    "    results[val] = msc.multi_mod_run(nreps, inps, scenarios, ncores)"
   ]
  },
  {
   "cell_type": "code",
   "execution_count": null,
   "metadata": {},
   "outputs": [],
   "source": [
    "fig, axs = plt.subplots(1,2,figsize=(10,3), sharey=True)\n",
    "c=0\n",
    "for val, res in results.items():\n",
    "    for p, pol in enumerate(policies):\n",
    "        # calculate the relevant metric\n",
    "        d = np.mean(res[pol]['yields'], axis=(0,2))\n",
    "        axs[p].plot(d, label=r'$SOM_{ init}$'+'={}'.format(val), color=clrs[c])\n",
    "        \n",
    "    c+=1\n",
    "\n",
    "for a, ax in enumerate(axs):\n",
    "    ax.grid(False)\n",
    "    ax.set_xlabel('Year')\n",
    "    ax.set_title(policies[a])\n",
    "    l = ax.get_ylim()\n",
    "    ax.fill_between([0,inp_base['adaptation']['burnin_period']], [l[0],l[0]], [l[1],l[1]], color='0.5', alpha=0.3)\n",
    "    ax.set_ylim(l)\n",
    "axs[1].legend(bbox_to_anchor=(1,0.5), loc='center left')\n",
    "axs[0].set_ylabel('E[Yield]')\n",
    "axs[0].text(-0.1,1.1, 'D', transform=axs[0].transAxes, fontsize=28, va='bottom', ha='center')"
   ]
  },
  {
   "cell_type": "code",
   "execution_count": null,
   "metadata": {},
   "outputs": [],
   "source": []
  },
  {
   "cell_type": "markdown",
   "metadata": {},
   "source": [
    "### income risks"
   ]
  },
  {
   "cell_type": "code",
   "execution_count": null,
   "metadata": {},
   "outputs": [],
   "source": [
    "results = msc.multi_mod_run(10000, inp_base, scenarios, ncores)"
   ]
  },
  {
   "cell_type": "code",
   "execution_count": null,
   "metadata": {},
   "outputs": [],
   "source": [
    "fig, axs = plt.subplots(1,2,figsize=(10,3))\n",
    "titles = ['Downside income risk','E[income]']\n",
    "lss = ['--','-']\n",
    "c=0\n",
    "for p, pol in enumerate(policies):\n",
    "    # calculate the relevant metrics\n",
    "    d = res[pol]['income']\n",
    "    plt_data = np.full(d.shape[1], np.nan)\n",
    "    for t in range(d.shape[1]):\n",
    "        di = d[:,t,:].flatten()\n",
    "#             di += 10000\n",
    "        di_mean = np.mean(di)\n",
    "        # calculate downside risk (semivariance)\n",
    "        plt_data[t] = np.std(di[di<=di_mean])#/ di_mean\n",
    "    axs[0].plot(plt_data, label='pol', ls=lss[p], color='k')\n",
    "    axs[1].plot(np.mean(d, axis=(0,2)), label=pol, color='k', ls=lss[p])\n",
    "\n",
    "for a, ax in enumerate(axs):\n",
    "    ax.grid(False)\n",
    "    ax.set_xlabel('Year')\n",
    "    ax.set_title(titles[a])\n",
    "    l = ax.get_ylim()\n",
    "    ax.fill_between([0,inp_base['adaptation']['burnin_period']], [l[0],l[0]], [l[1],l[1]], color='0.5', alpha=0.3)\n",
    "    ax.set_ylim(l)\n",
    "axs[1].legend(bbox_to_anchor=(1,0.5), loc='center left')\n",
    "# axs[1].axhline(0, lw=0.5, color='k')\n",
    "# axs[0].set_ylabel('Downside income risk')\n",
    "# axs[0].text(-0.1,1.1, 'E', transform=axs[0].transAxes, fontsize=28, va='bottom', ha='center')"
   ]
  },
  {
   "cell_type": "markdown",
   "metadata": {},
   "source": [
    "Distinguish agent types"
   ]
  },
  {
   "cell_type": "code",
   "execution_count": null,
   "metadata": {},
   "outputs": [],
   "source": [
    "res = results"
   ]
  },
  {
   "cell_type": "code",
   "execution_count": null,
   "metadata": {},
   "outputs": [],
   "source": [
    "fig, axs = plt.subplots(2,2,figsize=(10,7), sharey='row', sharex=True)\n",
    "ax_flat = axs.flatten()\n",
    "titles = ['Downside income risk','E[income]']\n",
    "lss = ['--','-',':']\n",
    "lands = [1,1.5,2]\n",
    "land_str = ['land poor','middle','land rich']\n",
    "import string\n",
    "c=0\n",
    "for p, pol in enumerate(policies):\n",
    "    # calculate the relevant metrics\n",
    "    d = np.swapaxes(res[pol]['income'],0,1)\n",
    "    for l, land in enumerate(lands):\n",
    "        ag = res[pol]['land_area'] == land\n",
    "        d_exp = np.full(d.shape[0], np.nan)\n",
    "        d_var = np.full(d.shape[0], np.nan)\n",
    "        for t in range(d.shape[0]):\n",
    "            di = d[t,ag]\n",
    "            d_exp[t] = np.mean(di)\n",
    "            d_var[t] = np.std(di[di<=d_exp[t]]) # semivariance (downside risk)\n",
    "        axs[0,p].plot(d_exp, label=land_str[l], ls=lss[l], color='k')\n",
    "        axs[1,p].plot(d_var, label=land_str[l], ls=lss[l], color='k')\n",
    "\n",
    "for a, ax in enumerate(ax_flat):\n",
    "    ax.grid(False)\n",
    "    l = ax.get_ylim()\n",
    "    ax.fill_between([0,inp_base['adaptation']['burnin_period']], [l[0],l[0]], [l[1],l[1]], color='0.5', alpha=0.3)\n",
    "    ax.set_ylim(l)\n",
    "    ax.text(0.02,0.98,string.ascii_uppercase[a], transform=ax.transAxes, fontsize=18, ha='left',va='top')\n",
    "    \n",
    "axs[0,0].set_ylabel('E[income]')\n",
    "axs[1,0].set_ylabel('Downside income risk')\n",
    "for ax in axs[1]:\n",
    "    ax.set_xlabel('time')\n",
    "axs[1,1].legend(bbox_to_anchor=(1,0.5), loc='center left')\n",
    "for a, ax in enumerate(axs[0]):\n",
    "    ax.set_title(policies[a])\n",
    "    ax.axhline(0, lw=0.75, color='k')"
   ]
  },
  {
   "cell_type": "markdown",
   "metadata": {},
   "source": [
    "# Climate / coping relationship"
   ]
  },
  {
   "cell_type": "code",
   "execution_count": null,
   "metadata": {},
   "outputs": [],
   "source": [
    "#### FOCUS ON INSURANCE\n",
    "scenarios = {\n",
    "    'baseline' : {'model' : {'adaptation_option' : 'none'}},\n",
    "    'insurance' : {'model' : {'adaptation_option' : 'insurance'}},\n",
    "    'cover_crop' : {'model' : {'adaptation_option' : 'cover_crop'}},\n",
    "}\n",
    "ncores = 40\n",
    "nreps = 10000\n",
    "inp_base['model']['T'] = 100 + inp_base['adaptation']['burnin_period']\n",
    "\n",
    "ins_percs = [0.02,0.05,0.1,0.2,0.3]\n",
    "cols = np.linspace(0,0.95,len(ins_percs)).astype(str)\n",
    "land_areas = [1,1.5,2]\n",
    "res = {}\n",
    "for ins in ins_percs:\n",
    "    inps = copy.deepcopy(inp_base)\n",
    "    inps['adaptation']['insurance']['climate_percentile'] = ins\n",
    "    results = msc.multi_mod_run(nreps, inps, scenarios, ncores)\n",
    "    res[ins] = results['insurance']\n",
    "\n",
    "res_cc = results['cover_crop']"
   ]
  },
  {
   "cell_type": "code",
   "execution_count": null,
   "metadata": {},
   "outputs": [],
   "source": [
    "res_base = results['baseline']"
   ]
  },
  {
   "cell_type": "code",
   "execution_count": null,
   "metadata": {},
   "outputs": [],
   "source": [
    "## get the data\n",
    "clim_bins = np.arange(0, 1.1, 0.05)\n",
    "plot_vals = {}\n",
    "plot_vals_cc = np.full((len(land_areas), clim_bins.shape[0]), np.nan)\n",
    "plot_vals_base = np.full((len(land_areas), clim_bins.shape[0]), np.nan)\n",
    "\n",
    "for ins in ins_percs:\n",
    "    rain = res[ins]['climate']\n",
    "    coping = res[ins]['coping']\n",
    "    tmp = np.full((len(land_areas), clim_bins.shape[0]), np.nan)\n",
    "    for l, land_area in enumerate(land_areas):\n",
    "        ags = res[ins]['land_area'] == land_area\n",
    "        ags_stack = np.array([ags for r in range(coping.shape[1])])\n",
    "        coping2 = np.swapaxes(coping, 0,1)\n",
    "        coping_ag = np.ma.masked_array(coping2, mask=ags_stack)\n",
    "        coping_ag = np.swapaxes(coping_ag, 0,1)\n",
    "        \n",
    "        coping_ag_cc = np.swapaxes(np.ma.masked_array(np.swapaxes(res_cc['coping'], 0,1), mask=ags_stack), 0,1)\n",
    "        coping_ag_base = np.swapaxes(np.ma.masked_array(np.swapaxes(res_base['coping'], 0,1), mask=ags_stack), 0,1)\n",
    "        \n",
    "        for r in range(1, clim_bins.shape[0]):\n",
    "            mask = (rain > clim_bins[r-1]) * (rain <= clim_bins[r])\n",
    "            tmp[l,r] = np.mean(coping_ag[mask,:])\n",
    "            \n",
    "            plot_vals_cc[l,r] = np.mean(coping_ag_cc[mask,:])\n",
    "            plot_vals_base[l,r] = np.mean(coping_ag_base[mask,:])\n",
    "        plot_vals[ins] = tmp"
   ]
  },
  {
   "cell_type": "code",
   "execution_count": null,
   "metadata": {},
   "outputs": [],
   "source": [
    "## plot\n",
    "ins_percs_plot = ins_percs[1:]\n",
    "\n",
    "fig, axs = plt.subplots(1,3,figsize=(12,3), sharey=True)\n",
    "i = -1\n",
    "for ins in ins_percs_plot:\n",
    "    i += 1\n",
    "    for l, land_area in enumerate(land_areas):\n",
    "        ax = axs[l]\n",
    "        ax.plot(clim_bins, plot_vals[ins][l], label=ins, color=cols[i])\n",
    "        \n",
    "        if i == 0:\n",
    "            ax.plot(clim_bins, plot_vals_cc[l], label='cover crop', ls= '--')\n",
    "\n",
    "for ax in axs:\n",
    "    ax.grid(False)\n",
    "    ax.legend()"
   ]
  },
  {
   "cell_type": "markdown",
   "metadata": {},
   "source": [
    "### make a figure just for one type of agent"
   ]
  },
  {
   "cell_type": "code",
   "execution_count": null,
   "metadata": {},
   "outputs": [],
   "source": [
    "ins_percs_plot = ins_percs[1:]\n",
    "l = 0\n",
    "\n",
    "fig, ax = plt.subplots(1,1,figsize=(12,4))\n",
    "\n",
    "i = -1\n",
    "for ins in ins_percs_plot:\n",
    "    i += 1\n",
    "    ax.plot(clim_bins, plot_vals[ins][l], label='{}% insured'.format(int(ins*100)), color=cols[i], lw=3)\n",
    "\n",
    "ax.plot(clim_bins, plot_vals_cc[l], label='cover crop', color='k', ls='--')\n",
    "ax.plot(clim_bins, plot_vals_base[l], label='baseline', color='k', ls='-.')\n",
    "    \n",
    "lims = ax.get_ylim()\n",
    "rain_flat = rain.flatten()\n",
    "hists = np.histogram(rain_flat, bins=30, normed=True)\n",
    "ax.bar(x=hists[1][:-1], height=hists[0]/10+lims[0], align='edge', width=hists[1][1]-hists[1][0], \n",
    "       color='0.8', label='climate distribution')\n",
    "ax.set_ylim(lims)\n",
    "\n",
    "ax.grid(False)\n",
    "ax.legend(bbox_to_anchor=(1,0.5), loc='center left')\n",
    "ax.set_xlabel('Climate condition')\n",
    "ax.set_ylabel('P(livestock sale required)')"
   ]
  },
  {
   "cell_type": "code",
   "execution_count": null,
   "metadata": {},
   "outputs": [],
   "source": [
    "inp_base['climate']"
   ]
  },
  {
   "cell_type": "markdown",
   "metadata": {},
   "source": [
    "## examining climate shock and response under different climate condns"
   ]
  },
  {
   "cell_type": "code",
   "execution_count": 43,
   "metadata": {},
   "outputs": [],
   "source": [
    "\n",
    "def run_multi_shock(inp_base, nreps, shock_time, shock_mag, T_burnin, T_assess, scenarios):\n",
    "    wealth = {}\n",
    "    income = {}\n",
    "    mods = {}\n",
    "    for name, vals in scenarios.items():\n",
    "        # change the params\n",
    "        params = copy.copy(inp_base)\n",
    "        for k, v in vals.items():\n",
    "            for k2, v2 in v.items():\n",
    "                params[k][k2] = v2\n",
    "        # add the climate shock\n",
    "        params['model']['shock'] = True\n",
    "        params['climate']['shock_years'] = [shock_time+T_burnin] # shock time is measured after the burn-in period\n",
    "        params['climate']['shock_rain'] = shock_mag\n",
    "        params['model']['T'] = T_burnin+shock_time+T_assess\n",
    "\n",
    "        wealth[name] = []\n",
    "        income[name] = []\n",
    "\n",
    "        for r in range(nreps):\n",
    "            params['model']['seed'] = r # set the seed\n",
    "\n",
    "            # initialize and run model\n",
    "            m = mod_code.Model(params)\n",
    "            if name == 'insurance':\n",
    "                print(m.adap_properties['magnitude'])\n",
    "            for t in range(m.T):\n",
    "                m.step()\n",
    "            # append to list\n",
    "            wealth[name].append(m.agents.wealth)\n",
    "            income[name].append(m.agents.income)\n",
    "\n",
    "        # format the outputs\n",
    "        mods[name] = {\n",
    "            'wealth' : np.array([tmp_i for tmp_i in wealth[name]]).astype(int),\n",
    "            'income' : np.array([tmp_i for tmp_i in income[name]]).astype(int),\n",
    "        }\n",
    "\n",
    "    return mods"
   ]
  },
  {
   "cell_type": "code",
   "execution_count": 44,
   "metadata": {},
   "outputs": [],
   "source": [
    "scenarios = {\n",
    "    'baseline' : {'model' : {'adaptation_option' : 'none'}},\n",
    "    'insurance' : {'model' : {'adaptation_option' : 'insurance'}},\n",
    "    'cover_crop' : {'model' : {'adaptation_option' : 'cover_crop'}},\n",
    "}\n",
    "nreps = 1\n",
    "shock_time = 20\n",
    "shock_mag = 0.1\n",
    "T_burnin = 10\n",
    "T_assess = 5"
   ]
  },
  {
   "cell_type": "markdown",
   "metadata": {},
   "source": [
    "### exploring"
   ]
  },
  {
   "cell_type": "code",
   "execution_count": 28,
   "metadata": {},
   "outputs": [
    {
     "data": {
      "text/plain": [
       "(10, 36, 300)"
      ]
     },
     "execution_count": 28,
     "metadata": {},
     "output_type": "execute_result"
    }
   ],
   "source": [
    "mods = run_multi_shock(inp_base, nreps, shock_time, shock_mag, T_burnin, T_assess, scenarios)\n",
    "mods.keys()\n",
    "mods['baseline']['wealth'].shape # nreps, T, agent"
   ]
  },
  {
   "cell_type": "code",
   "execution_count": 29,
   "metadata": {},
   "outputs": [
    {
     "data": {
      "text/plain": [
       "<matplotlib.legend.Legend at 0x7f9dca4399e8>"
      ]
     },
     "execution_count": 29,
     "metadata": {},
     "output_type": "execute_result"
    },
    {
     "data": {
      "image/png": "[encoded data removed]",
      "text/plain": [
       "<Figure size 432x288 with 2 Axes>"
      ]
     },
     "metadata": {
      "needs_background": "light"
     },
     "output_type": "display_data"
    }
   ],
   "source": [
    "fig, ax = plt.subplots(1,2)\n",
    "ts = np.arange(T_burnin+shock_time, T_burnin+shock_time+T_assess)\n",
    "for sc in scenarios.keys():\n",
    "    ax[0].plot(mods[sc]['wealth'][:,ts].mean((0,2)), label=sc)\n",
    "    ax[1].plot(mods[sc]['income'][:,ts].mean((0,2)), label=sc)\n",
    "    \n",
    "ax[0].legend()"
   ]
  },
  {
   "cell_type": "markdown",
   "metadata": {},
   "source": [
    "### vary climate mean"
   ]
  },
  {
   "cell_type": "code",
   "execution_count": 46,
   "metadata": {},
   "outputs": [
    {
     "name": "stdout",
     "output_type": "stream",
     "text": [
      "0.056875317879401054\n",
      "0.10687531787940104\n",
      "0.1568753178794011\n",
      "0.20687531787940105\n",
      "0.25687531787940104\n",
      "0.3068753178794011\n",
      "0.35687531787940097\n"
     ]
    },
    {
     "data": {
      "text/plain": [
       "Text(0, 0.5, 'income')"
      ]
     },
     "execution_count": 46,
     "metadata": {},
     "output_type": "execute_result"
    },
    {
     "data": {
      "image/png": "[encoded data removed]",
      "text/plain": [
       "<Figure size 720x360 with 14 Axes>"
      ]
     },
     "metadata": {
      "needs_background": "light"
     },
     "output_type": "display_data"
    }
   ],
   "source": [
    "mus = [0.2,0.4,0.6,0.8,1]\n",
    "mus = [0.3,0.35,0.4,0.45,0.5,0.55,0.6]\n",
    "fig, axs = plt.subplots(2,len(mus), sharey='row', figsize=(10,5))\n",
    "ts = np.arange(T_burnin+shock_time, T_burnin+shock_time+T_assess)\n",
    "\n",
    "for m, mu in enumerate(mus):\n",
    "    inp_tmp = copy.deepcopy(inp_base)\n",
    "    inp_tmp['climate']['rain_mu'] = mu\n",
    "    mods = run_multi_shock(inp_tmp, nreps, shock_time, shock_mag, T_burnin, T_assess, scenarios)\n",
    "    # plot\n",
    "    for sc in scenarios.keys():\n",
    "        axs[0,m].plot(mods[sc]['wealth'][:,ts+1].mean((0,2)), label=sc)\n",
    "        axs[1,m].plot(mods[sc]['income'][:,ts].mean((0,2)), label=sc)\n",
    "    \n",
    "    axs[0,m].set_title('mu={}'.format(mu))\n",
    "    \n",
    "axs[0,0].legend()\n",
    "axs[0,0].set_ylabel('wealth')\n",
    "axs[1,0].set_ylabel('income')"
   ]
  }
 ],
 "metadata": {
  "kernelspec": {
   "display_name": "Python 3",
   "language": "python",
   "name": "python3"
  },
  "language_info": {
   "codemirror_mode": {
    "name": "ipython",
    "version": 3
   },
   "file_extension": ".py",
   "mimetype": "text/x-python",
   "name": "python",
   "nbconvert_exporter": "python",
   "pygments_lexer": "ipython3",
   "version": "3.6.8"
  }
 },
 "nbformat": 4,
 "nbformat_minor": 2
}
